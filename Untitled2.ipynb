{
  "nbformat": 4,
  "nbformat_minor": 0,
  "metadata": {
    "colab": {
      "provenance": [],
      "authorship_tag": "ABX9TyM6eBo3aYKGtxIpax2X9fgR",
      "include_colab_link": true
    },
    "kernelspec": {
      "name": "python3",
      "display_name": "Python 3"
    },
    "language_info": {
      "name": "python"
    }
  },
  "cells": [
    {
      "cell_type": "markdown",
      "metadata": {
        "id": "view-in-github",
        "colab_type": "text"
      },
      "source": [
        "<a href=\"https://colab.research.google.com/github/martinpal1/factorial-calculator/blob/main/Untitled2.ipynb\" target=\"_parent\"><img src=\"https://colab.research.google.com/assets/colab-badge.svg\" alt=\"Open In Colab\"/></a>"
      ]
    },
    {
      "cell_type": "code",
      "execution_count": 12,
      "metadata": {
        "id": "PW8oEZatGKdV"
      },
      "outputs": [],
      "source": [
        "import math"
      ]
    },
    {
      "cell_type": "code",
      "source": [
        "A={1,0,math.pi,math.inf};\n",
        "print ('A=', A)"
      ],
      "metadata": {
        "colab": {
          "base_uri": "https://localhost:8080/"
        },
        "id": "Hrbsi4SpGX1d",
        "outputId": "ead80e04-311a-43ed-e53e-f9cb4a586fda"
      },
      "execution_count": 13,
      "outputs": [
        {
          "output_type": "stream",
          "name": "stdout",
          "text": [
            "A= {0, 1, 3.141592653589793, inf}\n"
          ]
        }
      ]
    },
    {
      "cell_type": "code",
      "source": [
        "B={2j+1,0,math.inf};\n",
        "print ('B=', B)"
      ],
      "metadata": {
        "colab": {
          "base_uri": "https://localhost:8080/"
        },
        "id": "xYOHWuivGeUE",
        "outputId": "a0d469e4-4baf-4bb1-b703-cee6d5a99af7"
      },
      "execution_count": 14,
      "outputs": [
        {
          "output_type": "stream",
          "name": "stdout",
          "text": [
            "B= {0, inf, (1+2j)}\n"
          ]
        }
      ]
    },
    {
      "cell_type": "code",
      "source": [
        "C= {math.pi,math.inf,10}\n",
        "print ('C=', C)"
      ],
      "metadata": {
        "colab": {
          "base_uri": "https://localhost:8080/"
        },
        "id": "klDRPuMQHGZW",
        "outputId": "95904309-c94f-444a-aa75-c9eae6ef8247"
      },
      "execution_count": 15,
      "outputs": [
        {
          "output_type": "stream",
          "name": "stdout",
          "text": [
            "C= {10, 3.141592653589793, inf}\n"
          ]
        }
      ]
    },
    {
      "cell_type": "code",
      "source": [
        "print('A∩B∩C=',\\\n",
        "\n",
        "A.intersection(B).intersection(C))"
      ],
      "metadata": {
        "colab": {
          "base_uri": "https://localhost:8080/"
        },
        "id": "zvQ22gjdHRUE",
        "outputId": "3f567a97-94a3-41d6-a76b-b84e1d3b37de"
      },
      "execution_count": 16,
      "outputs": [
        {
          "output_type": "stream",
          "name": "stdout",
          "text": [
            "A∩B∩C= {inf}\n"
          ]
        }
      ]
    },
    {
      "cell_type": "code",
      "source": [
        "print ('AUC=' ,\\\n",
        "A.union(C))"
      ],
      "metadata": {
        "colab": {
          "base_uri": "https://localhost:8080/"
        },
        "id": "fx-lo10jHf8d",
        "outputId": "5d889b72-ad02-4289-a213-0fff9f2bc75c"
      },
      "execution_count": 17,
      "outputs": [
        {
          "output_type": "stream",
          "name": "stdout",
          "text": [
            "AC= {0, 1, 3.141592653589793, 10, inf}\n"
          ]
        }
      ]
    },
    {
      "cell_type": "code",
      "source": [
        "print ('A∩C=' ,\\\n",
        "A.intersection(C))"
      ],
      "metadata": {
        "colab": {
          "base_uri": "https://localhost:8080/"
        },
        "id": "UOgXdIRsH1rm",
        "outputId": "aa98e16e-960e-43e6-ba44-ad3aa32cbc51"
      },
      "execution_count": 18,
      "outputs": [
        {
          "output_type": "stream",
          "name": "stdout",
          "text": [
            "A∩C= {3.141592653589793, inf}\n"
          ]
        }
      ]
    }
  ]
}