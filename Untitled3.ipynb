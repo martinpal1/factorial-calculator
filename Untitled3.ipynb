{
  "nbformat": 4,
  "nbformat_minor": 0,
  "metadata": {
    "colab": {
      "provenance": [],
      "authorship_tag": "ABX9TyMBWXrkMTRzITC8hkNN6mY6",
      "include_colab_link": true
    },
    "kernelspec": {
      "name": "python3",
      "display_name": "Python 3"
    },
    "language_info": {
      "name": "python"
    }
  },
  "cells": [
    {
      "cell_type": "markdown",
      "metadata": {
        "id": "view-in-github",
        "colab_type": "text"
      },
      "source": [
        "<a href=\"https://colab.research.google.com/github/martinpal1/factorial-calculator/blob/main/Untitled3.ipynb\" target=\"_parent\"><img src=\"https://colab.research.google.com/assets/colab-badge.svg\" alt=\"Open In Colab\"/></a>"
      ]
    },
    {
      "cell_type": "code",
      "execution_count": 20,
      "metadata": {
        "id": "ZknjZFJjLlJc"
      },
      "outputs": [],
      "source": [
        "import math"
      ]
    },
    {
      "cell_type": "code",
      "source": [
        "A={0};\n",
        "print ('A=', A)"
      ],
      "metadata": {
        "colab": {
          "base_uri": "https://localhost:8080/"
        },
        "id": "2LHtColhLqDK",
        "outputId": "113a0c28-4193-4594-b257-141335317a9d"
      },
      "execution_count": 21,
      "outputs": [
        {
          "output_type": "stream",
          "name": "stdout",
          "text": [
            "A= {0}\n"
          ]
        }
      ]
    },
    {
      "cell_type": "code",
      "source": [
        "B={math.inf};\n",
        "print ('B=', B)"
      ],
      "metadata": {
        "colab": {
          "base_uri": "https://localhost:8080/"
        },
        "id": "hSz32Ib-MCGg",
        "outputId": "0db49a8b-7a59-4c2d-f7df-4e7d8733ac80"
      },
      "execution_count": 22,
      "outputs": [
        {
          "output_type": "stream",
          "name": "stdout",
          "text": [
            "B= {inf}\n"
          ]
        }
      ]
    },
    {
      "cell_type": "code",
      "source": [
        "C= {2};\n",
        "print ('C=', C)"
      ],
      "metadata": {
        "colab": {
          "base_uri": "https://localhost:8080/"
        },
        "id": "bmZLO_5OMUmw",
        "outputId": "1094f639-c844-431d-d507-c9979ef9f9c0"
      },
      "execution_count": 23,
      "outputs": [
        {
          "output_type": "stream",
          "name": "stdout",
          "text": [
            "C= {2}\n"
          ]
        }
      ]
    },
    {
      "cell_type": "code",
      "source": [
        "D= {math.inf};\n",
        "print ('D=', D)"
      ],
      "metadata": {
        "colab": {
          "base_uri": "https://localhost:8080/"
        },
        "id": "iZuEwLIGNPjE",
        "outputId": "93a1230c-bead-4430-9cf2-33e568e7f63d"
      },
      "execution_count": 24,
      "outputs": [
        {
          "output_type": "stream",
          "name": "stdout",
          "text": [
            "D= {inf}\n"
          ]
        }
      ]
    },
    {
      "cell_type": "code",
      "source": [
        "set1={0}"
      ],
      "metadata": {
        "id": "L6QemwauOiHD"
      },
      "execution_count": 25,
      "outputs": []
    },
    {
      "cell_type": "code",
      "source": [
        "set2={0}"
      ],
      "metadata": {
        "id": "N0rwgzFGPB0Z"
      },
      "execution_count": 26,
      "outputs": []
    },
    {
      "cell_type": "code",
      "source": [
        " set1 = A.union(B)\n",
        " print (set1)"
      ],
      "metadata": {
        "colab": {
          "base_uri": "https://localhost:8080/"
        },
        "id": "fx-lo10jHf8d",
        "outputId": "a46c8429-c4c2-46b2-fe53-d937f440f161"
      },
      "execution_count": 27,
      "outputs": [
        {
          "output_type": "stream",
          "name": "stdout",
          "text": [
            "{0, inf}\n"
          ]
        }
      ]
    },
    {
      "cell_type": "code",
      "source": [
        "set2 = C.union(D)\n",
        "print (set2)"
      ],
      "metadata": {
        "colab": {
          "base_uri": "https://localhost:8080/"
        },
        "id": "jA95bKI8PArr",
        "outputId": "5fdfd978-65be-4811-fa0e-a6b5920d4c71"
      },
      "execution_count": 28,
      "outputs": [
        {
          "output_type": "stream",
          "name": "stdout",
          "text": [
            "{2, inf}\n"
          ]
        }
      ]
    },
    {
      "cell_type": "code",
      "source": [
        "print ('(AUB)∩(CUD)=' ,\\\n",
        "set1.intersection(set2))\n"
      ],
      "metadata": {
        "colab": {
          "base_uri": "https://localhost:8080/"
        },
        "id": "nD7zAIoiPTpL",
        "outputId": "881b3a1c-977e-4565-97ee-a70bd0aefd2c"
      },
      "execution_count": 30,
      "outputs": [
        {
          "output_type": "stream",
          "name": "stdout",
          "text": [
            "(AUB)∩(CUD)= {inf}\n"
          ]
        }
      ]
    }
  ]
}